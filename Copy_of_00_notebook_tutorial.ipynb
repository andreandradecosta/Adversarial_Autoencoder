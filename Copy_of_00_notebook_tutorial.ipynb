{
  "nbformat": 4,
  "nbformat_minor": 0,
  "metadata": {
    "colab": {
      "name": "Copy of 00_notebook_tutorial.ipynb",
      "version": "0.3.2",
      "provenance": [],
      "include_colab_link": true
    },
    "kernelspec": {
      "name": "python3",
      "display_name": "Python 3"
    },
    "accelerator": "GPU"
  },
  "cells": [
    {
      "cell_type": "markdown",
      "metadata": {
        "id": "view-in-github",
        "colab_type": "text"
      },
      "source": [
        "<a href=\"https://colab.research.google.com/github/andreandradecosta/Adversarial_Autoencoder/blob/master/Copy_of_00_notebook_tutorial.ipynb\" target=\"_parent\"><img src=\"https://colab.research.google.com/assets/colab-badge.svg\" alt=\"Open In Colab\"/></a>"
      ]
    },
    {
      "metadata": {
        "id": "oFgfkdcSrbJD",
        "colab_type": "text"
      },
      "cell_type": "markdown",
      "source": [
        "**Important note:** You should always work on a duplicate of the course notebook. On the page you used to open this, tick the box next to the name of the notebook and click duplicate to easily create a new version of this notebook.\n",
        "\n",
        "You will get errors each time you try to update your course repository if you don't do this, and your changes will end up being erased by the original course version."
      ]
    },
    {
      "metadata": {
        "id": "rVzAtJbur6hY",
        "colab_type": "code",
        "outputId": "fbef8477-bdbe-4f0b-ad87-f5e311f0c2a3",
        "colab": {
          "base_uri": "https://localhost:8080/",
          "height": 68
        }
      },
      "cell_type": "code",
      "source": [
        "!curl -s https://course.fast.ai/setup/colab | bash"
      ],
      "execution_count": 0,
      "outputs": [
        {
          "output_type": "stream",
          "text": [
            "Updating fastai...\n",
            "\u001b[31mspacy 2.0.18 has requirement numpy>=1.15.0, but you'll have numpy 1.14.6 which is incompatible.\u001b[0m\n",
            "Done.\n"
          ],
          "name": "stdout"
        }
      ]
    },
    {
      "metadata": {
        "id": "zaxKU-i-rbJF",
        "colab_type": "text"
      },
      "cell_type": "markdown",
      "source": [
        "# Welcome to Jupyter Notebooks!"
      ]
    },
    {
      "metadata": {
        "id": "Uht4V2CRrbJF",
        "colab_type": "text"
      },
      "cell_type": "markdown",
      "source": [
        "If you want to learn how to use this tool you've come to the right place. This article will teach you all you need to know to use Jupyter Notebooks effectively. You only need to go through Section 1 to learn the basics and you can go into Section 2 if you want to further increase your productivity."
      ]
    },
    {
      "metadata": {
        "id": "H8FwgKFzrbJH",
        "colab_type": "text"
      },
      "cell_type": "markdown",
      "source": [
        "You might be reading this tutorial in a web page (maybe Github or the course's webpage). We strongly suggest to read this tutorial in a (yes, you guessed it) Jupyter Notebook. This way you will be able to actually *try* the different commands we will introduce here."
      ]
    },
    {
      "metadata": {
        "id": "BuSdL-STrbJH",
        "colab_type": "text"
      },
      "cell_type": "markdown",
      "source": [
        "## Section 1: Need to Know"
      ]
    },
    {
      "metadata": {
        "id": "Xu6awfR8rbJI",
        "colab_type": "text"
      },
      "cell_type": "markdown",
      "source": [
        "### Introduction"
      ]
    },
    {
      "metadata": {
        "id": "1exN6FiwrbJJ",
        "colab_type": "text"
      },
      "cell_type": "markdown",
      "source": [
        "Let's build up from the basics, what is a Jupyter Notebook? Well, you are reading one. It is a document made of cells. You can write like I am writing now (markdown cells) or you can perform calculations in Python (code cells) and run them like this:"
      ]
    },
    {
      "metadata": {
        "id": "xKQpRmk4rbJK",
        "colab_type": "code",
        "outputId": "41bb5421-a249-4712-fc01-5a1bd1ef0e01",
        "colab": {
          "base_uri": "https://localhost:8080/",
          "height": 34
        }
      },
      "cell_type": "code",
      "source": [
        "1+1"
      ],
      "execution_count": 0,
      "outputs": [
        {
          "output_type": "execute_result",
          "data": {
            "text/plain": [
              "2"
            ]
          },
          "metadata": {
            "tags": []
          },
          "execution_count": 2
        }
      ]
    },
    {
      "metadata": {
        "id": "ARjUpeRqrbJR",
        "colab_type": "text"
      },
      "cell_type": "markdown",
      "source": [
        "Cool huh? This combination of prose and code makes Jupyter Notebook ideal for experimentation: we can see the rationale for each experiment, the code and the results in one comprehensive document. In fast.ai, each lesson is documented in a notebook and you can later use that notebook to experiment yourself. \n",
        "\n",
        "Other renowned institutions in academy and industry use Jupyter Notebook: Google, Microsoft, IBM, Bloomberg, Berkeley and NASA among others. Even Nobel-winning economists [use Jupyter Notebooks](https://paulromer.net/jupyter-mathematica-and-the-future-of-the-research-paper/)  for their experiments and some suggest that Jupyter Notebooks will be the [new format for research papers](https://www.theatlantic.com/science/archive/2018/04/the-scientific-paper-is-obsolete/556676/)."
      ]
    },
    {
      "metadata": {
        "id": "eRnGAzNorbJR",
        "colab_type": "text"
      },
      "cell_type": "markdown",
      "source": [
        "### Writing"
      ]
    },
    {
      "metadata": {
        "id": "0u2sLfolrbJS",
        "colab_type": "text"
      },
      "cell_type": "markdown",
      "source": [
        "A type of cell in which you can write like this is called _Markdown_. [_Markdown_](https://en.wikipedia.org/wiki/Markdown) is a very popular markup language. To specify that a cell is _Markdown_ you need to click in the drop-down menu in the toolbar and select _Markdown_."
      ]
    },
    {
      "metadata": {
        "id": "zSjap9n5rbJT",
        "colab_type": "text"
      },
      "cell_type": "markdown",
      "source": [
        "Click on the the '+' button on the left and select _Markdown_ from the toolbar."
      ]
    },
    {
      "metadata": {
        "id": "bdgHKd93rbJU",
        "colab_type": "text"
      },
      "cell_type": "markdown",
      "source": [
        "Now you can type your first _Markdown_ cell. Write 'My first markdown cell' and press run."
      ]
    },
    {
      "metadata": {
        "id": "jNaJyN6orbJV",
        "colab_type": "text"
      },
      "cell_type": "markdown",
      "source": [
        "![add](https://github.com/fastai/course-v3/blob/master/nbs/dl1/images/notebook_tutorial/add.png?raw=1)"
      ]
    },
    {
      "metadata": {
        "id": "IaLBHxCMrbJV",
        "colab_type": "text"
      },
      "cell_type": "markdown",
      "source": [
        "You should see something like this:"
      ]
    },
    {
      "metadata": {
        "id": "Pyk4ljobrbJV",
        "colab_type": "text"
      },
      "cell_type": "markdown",
      "source": [
        "My first markdown cell"
      ]
    },
    {
      "metadata": {
        "id": "Gn5xhXetrbJW",
        "colab_type": "text"
      },
      "cell_type": "markdown",
      "source": [
        "Now try making your first _Code_ cell: follow the same steps as before but don't change the cell type (when you add a cell its default type is _Code_). Type something like 3/2. You should see '1.5' as output."
      ]
    },
    {
      "metadata": {
        "id": "D5-7idhYrbJZ",
        "colab_type": "code",
        "outputId": "f7265077-fe3f-41d8-e7c1-8d6dfe7340eb",
        "colab": {}
      },
      "cell_type": "code",
      "source": [
        "3/2"
      ],
      "execution_count": 0,
      "outputs": [
        {
          "output_type": "execute_result",
          "data": {
            "text/plain": [
              "1.5"
            ]
          },
          "metadata": {
            "tags": []
          },
          "execution_count": 0
        }
      ]
    },
    {
      "metadata": {
        "id": "lEHwdfpCrbJb",
        "colab_type": "text"
      },
      "cell_type": "markdown",
      "source": [
        "### Modes"
      ]
    },
    {
      "metadata": {
        "id": "BAvWG1rDrbJc",
        "colab_type": "text"
      },
      "cell_type": "markdown",
      "source": [
        "If you made a mistake in your *Markdown* cell and you have already ran it, you will notice that you cannot edit it just by clicking on it. This is because you are in **Command Mode**. Jupyter Notebooks have two distinct modes:\n",
        "\n",
        "1. **Edit Mode**: Allows you to edit a cell's content.\n",
        "\n",
        "2. **Command Mode**: Allows you to edit the notebook as a whole and use keyboard shortcuts but not edit a cell's content. \n",
        "\n",
        "You can toggle between these two by either pressing <kbd>ESC</kbd> and <kbd>Enter</kbd> or clicking outside a cell or inside it (you need to double click if its a Markdown cell). You can always know which mode you're on since the current cell has a green border if in **Edit Mode** and a blue border in **Command Mode**. Try it!"
      ]
    },
    {
      "metadata": {
        "id": "9Fh7BwYrrbJd",
        "colab_type": "text"
      },
      "cell_type": "markdown",
      "source": [
        "### Other Important Considerations"
      ]
    },
    {
      "metadata": {
        "id": "hiD-TNSKrbJd",
        "colab_type": "text"
      },
      "cell_type": "markdown",
      "source": [
        "1. Your notebook is autosaved every 120 seconds. If you want to manually save it you can just press the save button on the upper left corner or press <kbd>s</kbd> in **Command Mode**."
      ]
    },
    {
      "metadata": {
        "id": "D4glvGYSrbJe",
        "colab_type": "text"
      },
      "cell_type": "markdown",
      "source": [
        "![Save](https://github.com/fastai/course-v3/blob/master/nbs/dl1/images/notebook_tutorial/save.png?raw=1)"
      ]
    },
    {
      "metadata": {
        "id": "sqxzqqKprbJe",
        "colab_type": "text"
      },
      "cell_type": "markdown",
      "source": [
        "2. To know if your kernel is computing or not you can check the dot in your upper right corner. If the dot is full, it means that the kernel is working. If not, it is idle. You can place the mouse on it and see the state of the kernel be displayed."
      ]
    },
    {
      "metadata": {
        "id": "oQ3-LFALrbJg",
        "colab_type": "text"
      },
      "cell_type": "markdown",
      "source": [
        "![Busy](https://github.com/fastai/course-v3/blob/master/nbs/dl1/images/notebook_tutorial/busy.png?raw=1)"
      ]
    },
    {
      "metadata": {
        "id": "tLdaZd3IrbJh",
        "colab_type": "text"
      },
      "cell_type": "markdown",
      "source": [
        "3. There are a couple of shortcuts you must know about which we use **all** the time (always in **Command Mode**). These are:\n",
        "\n",
        "<kbd>Shift</kbd>+<kbd>Enter</kbd>: Runs the code or markdown on a cell\n",
        "\n",
        "<kbd>Up Arrow</kbd>+<kbd>Down Arrow</kbd>: Toggle across cells\n",
        "\n",
        "<kbd>b</kbd>: Create new cell\n",
        "\n",
        "<kbd>0</kbd>+<kbd>0</kbd>: Reset Kernel\n",
        "\n",
        "You can find more shortcuts in the Shortcuts section below."
      ]
    },
    {
      "metadata": {
        "id": "zz86-pBmrbJh",
        "colab_type": "text"
      },
      "cell_type": "markdown",
      "source": [
        "4. You may need to use a terminal in a Jupyter Notebook environment (for example to git pull on a repository). That is very easy to do, just press 'New' in your Home directory and 'Terminal'. Don't know how to use the Terminal? We made a tutorial for that as well. You can find it [here](https://course.fast.ai/terminal_tutorial.html)."
      ]
    },
    {
      "metadata": {
        "id": "vqxP6geqrbJi",
        "colab_type": "text"
      },
      "cell_type": "markdown",
      "source": [
        "![Terminal](https://github.com/fastai/course-v3/blob/master/nbs/dl1/images/notebook_tutorial/terminal.png?raw=1)"
      ]
    },
    {
      "metadata": {
        "id": "DdkGWtEYrbJj",
        "colab_type": "text"
      },
      "cell_type": "markdown",
      "source": [
        "That's it. This is all you need to know to use Jupyter Notebooks. That said, we have more tips and tricks below ↓↓↓"
      ]
    },
    {
      "metadata": {
        "id": "-G096PTerbJj",
        "colab_type": "text"
      },
      "cell_type": "markdown",
      "source": [
        "## Section 2: Going deeper"
      ]
    },
    {
      "metadata": {
        "hide_input": false,
        "id": "_ws8X2MGrbJk",
        "colab_type": "text"
      },
      "cell_type": "markdown",
      "source": [
        "### Markdown formatting"
      ]
    },
    {
      "metadata": {
        "id": "yyBHtvRDrbJl",
        "colab_type": "text"
      },
      "cell_type": "markdown",
      "source": [
        "#### Italics, Bold, Strikethrough, Inline, Blockquotes and Links"
      ]
    },
    {
      "metadata": {
        "id": "9QFrYFoHrbJm",
        "colab_type": "text"
      },
      "cell_type": "markdown",
      "source": [
        "The five most important concepts to format your code appropriately when using markdown are:\n",
        "    \n",
        "1. *Italics*: Surround your text with '\\_' or '\\*'\n",
        "2. **Bold**: Surround your text with '\\__' or '\\**'\n",
        "3. `inline`: Surround your text with '\\`'\n",
        "4.  > blockquote: Place '\\>' before your text.\n",
        "5.  [Links](https://course.fast.ai/): Surround the text you want to link with '\\[\\]' and place the link adjacent to the text, surrounded with '()'\n"
      ]
    },
    {
      "metadata": {
        "id": "tcvdiFVRrbJn",
        "colab_type": "text"
      },
      "cell_type": "markdown",
      "source": [
        "#### Headings"
      ]
    },
    {
      "metadata": {
        "id": "BBOC5Lo-rbJo",
        "colab_type": "text"
      },
      "cell_type": "markdown",
      "source": [
        "Notice that including a hashtag before the text in a markdown cell makes the text a heading. The number of hashtags you include will determine the priority of the header ('#' is level one, '##' is level two, '###' is level three and '####' is level four). We will add three new cells with the '+' button on the left to see how every level of heading looks."
      ]
    },
    {
      "metadata": {
        "id": "jriES_idrbJo",
        "colab_type": "text"
      },
      "cell_type": "markdown",
      "source": [
        "Double click on some headings and find out what level they are!"
      ]
    },
    {
      "metadata": {
        "id": "hTQ485mUrbJp",
        "colab_type": "text"
      },
      "cell_type": "markdown",
      "source": [
        "#### Lists"
      ]
    },
    {
      "metadata": {
        "id": "tNTHijlqrbJq",
        "colab_type": "text"
      },
      "cell_type": "markdown",
      "source": [
        "There are three types of lists in markdown."
      ]
    },
    {
      "metadata": {
        "id": "UOMeXJ_CrbJr",
        "colab_type": "text"
      },
      "cell_type": "markdown",
      "source": [
        "Ordered list:\n",
        "\n",
        "1. Step 1\n",
        "    2. Step 1B\n",
        "3. Step 3"
      ]
    },
    {
      "metadata": {
        "id": "ynRa3uGFrbJs",
        "colab_type": "text"
      },
      "cell_type": "markdown",
      "source": [
        "Unordered list\n",
        "\n",
        "* learning rate\n",
        "* cycle length\n",
        "* weight decay"
      ]
    },
    {
      "metadata": {
        "id": "1MH7LR2OrbJt",
        "colab_type": "text"
      },
      "cell_type": "markdown",
      "source": [
        "Task list\n",
        "\n",
        "- [x] Learn Jupyter Notebooks\n",
        "    - [x] Writing\n",
        "    - [x] Modes\n",
        "    - [x] Other Considerations\n",
        "- [ ] Change the world"
      ]
    },
    {
      "metadata": {
        "id": "HBN_J6SgrbJu",
        "colab_type": "text"
      },
      "cell_type": "markdown",
      "source": [
        "Double click on each to see how they are built! "
      ]
    },
    {
      "metadata": {
        "id": "OU6BjENgrbJv",
        "colab_type": "text"
      },
      "cell_type": "markdown",
      "source": [
        "### Code Capabilities"
      ]
    },
    {
      "metadata": {
        "id": "FqepidngrbJw",
        "colab_type": "text"
      },
      "cell_type": "markdown",
      "source": [
        "**Code** cells are different than **Markdown** cells in that they have an output cell. This means that we can _keep_ the results of our code within the notebook and share them. Let's say we want to show a graph that explains the result of an experiment. We can just run the necessary cells and save the notebook. The output will be there when we open it again! Try it out by running the next four cells."
      ]
    },
    {
      "metadata": {
        "id": "rr1G_dJDrbJx",
        "colab_type": "code",
        "colab": {}
      },
      "cell_type": "code",
      "source": [
        "# Import necessary libraries\n",
        "from fastai.vision import * \n",
        "import matplotlib.pyplot as plt"
      ],
      "execution_count": 0,
      "outputs": []
    },
    {
      "metadata": {
        "id": "FVn7ase-rbJ0",
        "colab_type": "code",
        "colab": {}
      },
      "cell_type": "code",
      "source": [
        "from PIL import Image"
      ],
      "execution_count": 0,
      "outputs": []
    },
    {
      "metadata": {
        "id": "tmWjrkFWrbJ3",
        "colab_type": "code",
        "outputId": "e114f550-5125-43a3-883d-5fc6671ccb6c",
        "colab": {
          "base_uri": "https://localhost:8080/",
          "height": 34
        }
      },
      "cell_type": "code",
      "source": [
        "a = 1\n",
        "b = a + 1\n",
        "c = b + a + 1\n",
        "d = c + b + a + 1\n",
        "a, b, c ,d"
      ],
      "execution_count": 0,
      "outputs": [
        {
          "output_type": "execute_result",
          "data": {
            "text/plain": [
              "(1, 2, 4, 8)"
            ]
          },
          "metadata": {
            "tags": []
          },
          "execution_count": 6
        }
      ]
    },
    {
      "metadata": {
        "id": "gHyrkNAZrbJ8",
        "colab_type": "code",
        "outputId": "d25ace14-fd08-4e58-fad0-807a63ba7c62",
        "colab": {
          "base_uri": "https://localhost:8080/",
          "height": 347
        }
      },
      "cell_type": "code",
      "source": [
        "plt.plot([a,b,c,d])\n",
        "plt.show()"
      ],
      "execution_count": 0,
      "outputs": [
        {
          "output_type": "display_data",
          "data": {
            "image/png": "[encoded data removed]",
            "text/plain": [
              "<Figure size 576x396 with 1 Axes>"
            ]
          },
          "metadata": {
            "tags": []
          }
        }
      ]
    },
    {
      "metadata": {
        "id": "ptJFzaEVrbJ_",
        "colab_type": "text"
      },
      "cell_type": "markdown",
      "source": [
        "We can also print images while experimenting. I am watching you."
      ]
    },
    {
      "metadata": {
        "id": "9I8QaEwwrbJ_",
        "colab_type": "code",
        "outputId": "da06ca4d-1645-4bdc-b217-981ea5091260",
        "colab": {
          "base_uri": "https://localhost:8080/",
          "height": 283
        }
      },
      "cell_type": "code",
      "source": [
        "Image.open('images/notebook_tutorial/cat_example.jpg')"
      ],
      "execution_count": 0,
      "outputs": [
        {
          "output_type": "error",
          "ename": "FileNotFoundError",
          "evalue": "ignored",
          "traceback": [
            "\u001b[0;31m---------------------------------------------------------------------------\u001b[0m",
            "\u001b[0;31mFileNotFoundError\u001b[0m                         Traceback (most recent call last)",
            "\u001b[0;32m<ipython-input-8-a6d739aab8ba>\u001b[0m in \u001b[0;36m<module>\u001b[0;34m()\u001b[0m\n\u001b[0;32m----> 1\u001b[0;31m \u001b[0mImage\u001b[0m\u001b[0;34m.\u001b[0m\u001b[0mopen\u001b[0m\u001b[0;34m(\u001b[0m\u001b[0;34m'images/notebook_tutorial/cat_example.jpg'\u001b[0m\u001b[0;34m)\u001b[0m\u001b[0;34m\u001b[0m\u001b[0;34m\u001b[0m\u001b[0m\n\u001b[0m",
            "\u001b[0;32m/usr/local/lib/python3.6/dist-packages/PIL/Image.py\u001b[0m in \u001b[0;36mopen\u001b[0;34m(fp, mode)\u001b[0m\n\u001b[1;32m   2310\u001b[0m \u001b[0;34m\u001b[0m\u001b[0m\n\u001b[1;32m   2311\u001b[0m     \u001b[0;32mif\u001b[0m \u001b[0mfilename\u001b[0m\u001b[0;34m:\u001b[0m\u001b[0;34m\u001b[0m\u001b[0;34m\u001b[0m\u001b[0m\n\u001b[0;32m-> 2312\u001b[0;31m         \u001b[0mfp\u001b[0m \u001b[0;34m=\u001b[0m \u001b[0mbuiltins\u001b[0m\u001b[0;34m.\u001b[0m\u001b[0mopen\u001b[0m\u001b[0;34m(\u001b[0m\u001b[0mfilename\u001b[0m\u001b[0;34m,\u001b[0m \u001b[0;34m\"rb\"\u001b[0m\u001b[0;34m)\u001b[0m\u001b[0;34m\u001b[0m\u001b[0;34m\u001b[0m\u001b[0m\n\u001b[0m\u001b[1;32m   2313\u001b[0m \u001b[0;34m\u001b[0m\u001b[0m\n\u001b[1;32m   2314\u001b[0m     \u001b[0;32mtry\u001b[0m\u001b[0;34m:\u001b[0m\u001b[0;34m\u001b[0m\u001b[0;34m\u001b[0m\u001b[0m\n",
            "\u001b[0;31mFileNotFoundError\u001b[0m: [Errno 2] No such file or directory: 'images/notebook_tutorial/cat_example.jpg'"
          ]
        }
      ]
    },
    {
      "metadata": {
        "id": "4T89UMqPrbKC",
        "colab_type": "text"
      },
      "cell_type": "markdown",
      "source": [
        "### Running the app locally"
      ]
    },
    {
      "metadata": {
        "id": "YsuuOU6QrbKD",
        "colab_type": "text"
      },
      "cell_type": "markdown",
      "source": [
        "You may be running Jupyter Notebook from an interactive coding environment like Gradient, Sagemaker or Salamander. You can also run a Jupyter Notebook server from your local computer. What's more, if you have installed Anaconda you don't even need to install Jupyter (if not, just `pip install jupyter`).\n",
        "\n",
        "You just need to run `jupyter notebook` in your terminal. Remember to run it from a folder that contains all the folders/files you will want to access. You will be able to open, view and edit files located within the directory in which you run this command but not files in parent directories.\n",
        "\n",
        "If a browser tab does not open automatically once you run the command, you should CTRL+CLICK the link starting with 'https://localhost:' and this will open a new tab in your default browser."
      ]
    },
    {
      "metadata": {
        "id": "0FUjrvgRrbKE",
        "colab_type": "text"
      },
      "cell_type": "markdown",
      "source": [
        "### Creating a notebook"
      ]
    },
    {
      "metadata": {
        "id": "Owe7ki9FrbKE",
        "colab_type": "text"
      },
      "cell_type": "markdown",
      "source": [
        "Click on 'New' in the upper left corner and 'Python 3' in the drop-down list (we are going to use a [Python kernel](https://github.com/ipython/ipython) for all our experiments).\n",
        "\n",
        "![new_notebook](https://github.com/fastai/course-v3/blob/master/nbs/dl1/images/notebook_tutorial/new_notebook.png?raw=1)\n",
        "\n",
        "Note: You will sometimes hear people talking about the Notebook 'kernel'. The 'kernel' is just the Python engine that performs the computations for you. "
      ]
    },
    {
      "metadata": {
        "id": "CWEnqQHJrbKF",
        "colab_type": "text"
      },
      "cell_type": "markdown",
      "source": [
        "### Shortcuts and tricks"
      ]
    },
    {
      "metadata": {
        "id": "x7xXZ-XorbKF",
        "colab_type": "text"
      },
      "cell_type": "markdown",
      "source": [
        "#### Command Mode Shortcuts"
      ]
    },
    {
      "metadata": {
        "id": "IP_DXUnRrbKG",
        "colab_type": "text"
      },
      "cell_type": "markdown",
      "source": [
        "There are a couple of useful keyboard shortcuts in `Command Mode` that you can leverage to make Jupyter Notebook faster to use. Remember that to switch back and forth between `Command Mode` and `Edit Mode` with <kbd>Esc</kbd> and <kbd>Enter</kbd>."
      ]
    },
    {
      "metadata": {
        "id": "no2hxBaLrbKH",
        "colab_type": "text"
      },
      "cell_type": "markdown",
      "source": [
        "<kbd>m</kbd>: Convert cell to Markdown"
      ]
    },
    {
      "metadata": {
        "id": "jNWm-JpBrbKI",
        "colab_type": "text"
      },
      "cell_type": "markdown",
      "source": [
        "<kbd>y</kbd>: Convert cell to Code"
      ]
    },
    {
      "metadata": {
        "id": "5XAyqcwurbKJ",
        "colab_type": "text"
      },
      "cell_type": "markdown",
      "source": [
        "<kbd>D</kbd>+<kbd>D</kbd>: Delete cell"
      ]
    },
    {
      "metadata": {
        "id": "IonlPmmLrbKL",
        "colab_type": "text"
      },
      "cell_type": "markdown",
      "source": [
        "<kbd>o</kbd>: Toggle between hide or show output"
      ]
    },
    {
      "metadata": {
        "id": "C9RvMtA-rbKL",
        "colab_type": "text"
      },
      "cell_type": "markdown",
      "source": [
        "<kbd>Shift</kbd>+<kbd>Arrow up/Arrow down</kbd>: Selects multiple cells. Once you have selected them you can operate on them like a batch (run, copy, paste etc)."
      ]
    },
    {
      "metadata": {
        "id": "13BRjOcsrbKM",
        "colab_type": "text"
      },
      "cell_type": "markdown",
      "source": [
        "<kbd>Shift</kbd>+<kbd>M</kbd>: Merge selected cells."
      ]
    },
    {
      "metadata": {
        "id": "r4USXJTNrbKN",
        "colab_type": "text"
      },
      "cell_type": "markdown",
      "source": [
        "<kbd>Shift</kbd>+<kbd>Tab</kbd>: [press once] Tells you which parameters to pass on a function\n",
        "<kbd>Shift</kbd>+<kbd>Tab</kbd>: [press three times] Gives additional information on the method"
      ]
    },
    {
      "metadata": {
        "id": "HTBHhHu0rbKO",
        "colab_type": "text"
      },
      "cell_type": "markdown",
      "source": [
        "#### Cell Tricks"
      ]
    },
    {
      "metadata": {
        "id": "D774R582rbKQ",
        "colab_type": "code",
        "colab": {}
      },
      "cell_type": "code",
      "source": [
        "from fastai import*\n",
        "from fastai.vision import *"
      ],
      "execution_count": 0,
      "outputs": []
    },
    {
      "metadata": {
        "id": "Xu4jfRpOrbKS",
        "colab_type": "text"
      },
      "cell_type": "markdown",
      "source": [
        "There are also some tricks that you can code into a cell."
      ]
    },
    {
      "metadata": {
        "id": "ELMirb0FrbKT",
        "colab_type": "text"
      },
      "cell_type": "markdown",
      "source": [
        "`?function-name`: Shows the definition and docstring for that function"
      ]
    },
    {
      "metadata": {
        "id": "m49m7h-CrbKU",
        "colab_type": "code",
        "colab": {}
      },
      "cell_type": "code",
      "source": [
        "?ImageDataBunch"
      ],
      "execution_count": 0,
      "outputs": []
    },
    {
      "metadata": {
        "id": "Hs4eTvOSrbKW",
        "colab_type": "text"
      },
      "cell_type": "markdown",
      "source": [
        "`??function-name`: Shows the source code for that function"
      ]
    },
    {
      "metadata": {
        "id": "97h7m1NerbKX",
        "colab_type": "code",
        "colab": {}
      },
      "cell_type": "code",
      "source": [
        "??ImageDataBunch"
      ],
      "execution_count": 0,
      "outputs": []
    },
    {
      "metadata": {
        "id": "vxCERamXrbKZ",
        "colab_type": "text"
      },
      "cell_type": "markdown",
      "source": [
        "`doc(function-name)`: Shows the definition, docstring **and links to the documentation** of the function\n",
        "(only works with fastai library imported)"
      ]
    },
    {
      "metadata": {
        "id": "ICS6FwDjrbKa",
        "colab_type": "code",
        "colab": {}
      },
      "cell_type": "code",
      "source": [
        "doc(ImageDataBunch)"
      ],
      "execution_count": 0,
      "outputs": []
    },
    {
      "metadata": {
        "id": "8OSUjvWzrbKb",
        "colab_type": "text"
      },
      "cell_type": "markdown",
      "source": [
        "#### Line Magics"
      ]
    },
    {
      "metadata": {
        "id": "mNBnrXcSrbKc",
        "colab_type": "text"
      },
      "cell_type": "markdown",
      "source": [
        "Line magics are functions that you can run on cells and take as an argument the rest of the line from where they are called. You call them by placing a '%' sign before the command. The most useful ones are:"
      ]
    },
    {
      "metadata": {
        "id": "AziwJXWIrbKc",
        "colab_type": "text"
      },
      "cell_type": "markdown",
      "source": [
        "`%matplotlib inline`: This command ensures that all matplotlib plots will be plotted in the output cell within the notebook and will be kept in the notebook when saved."
      ]
    },
    {
      "metadata": {
        "id": "5U6Fckd3rbKc",
        "colab_type": "text"
      },
      "cell_type": "markdown",
      "source": [
        "`%reload_ext autoreload`, `%autoreload 2`: Reload all modules before executing a new line. If a module is edited, it is not necessary to rerun the import commands, the modules will be reloaded automatically."
      ]
    },
    {
      "metadata": {
        "id": "_GZ1cy3srbKd",
        "colab_type": "text"
      },
      "cell_type": "markdown",
      "source": [
        "These three commands are always called together at the beginning of every notebook."
      ]
    },
    {
      "metadata": {
        "id": "RPcBAzutrbKe",
        "colab_type": "code",
        "colab": {}
      },
      "cell_type": "code",
      "source": [
        "%matplotlib inline\n",
        "%reload_ext autoreload\n",
        "%autoreload 2"
      ],
      "execution_count": 0,
      "outputs": []
    },
    {
      "metadata": {
        "id": "j0wmbFH0rbKf",
        "colab_type": "text"
      },
      "cell_type": "markdown",
      "source": [
        "`%timeit`: Runs a line a ten thousand times and displays the average time it took to run it."
      ]
    },
    {
      "metadata": {
        "id": "lOY3AL3lrbKh",
        "colab_type": "code",
        "outputId": "5a58152e-196b-4fd1-83af-b2804b337581",
        "colab": {}
      },
      "cell_type": "code",
      "source": [
        "%timeit [i+1 for i in range(1000)]"
      ],
      "execution_count": 0,
      "outputs": [
        {
          "output_type": "stream",
          "text": [
            "54.4 µs ± 1.37 µs per loop (mean ± std. dev. of 7 runs, 10000 loops each)\n"
          ],
          "name": "stdout"
        }
      ]
    },
    {
      "metadata": {
        "id": "_JSbrtuZrbKj",
        "colab_type": "text"
      },
      "cell_type": "markdown",
      "source": [
        "`%debug`: Allows to inspect a function which is showing an error using the [Python debugger](https://docs.python.org/3/library/pdb.html)."
      ]
    },
    {
      "metadata": {
        "id": "34aU0elArbKk",
        "colab_type": "code",
        "outputId": "034e3114-2e14-46bd-b42d-2245fbd14fa0",
        "colab": {}
      },
      "cell_type": "code",
      "source": [
        "for i in range(1000):\n",
        "    a = i+1\n",
        "    b = 'string'\n",
        "    c = b+1"
      ],
      "execution_count": 0,
      "outputs": [
        {
          "output_type": "error",
          "ename": "TypeError",
          "evalue": "must be str, not int",
          "traceback": [
            "\u001b[1;31m---------------------------------------------------------------------------\u001b[0m",
            "\u001b[1;31mTypeError\u001b[0m                                 Traceback (most recent call last)",
            "\u001b[1;32m<ipython-input-14-8d78ff778454>\u001b[0m in \u001b[0;36m<module>\u001b[1;34m()\u001b[0m\n\u001b[0;32m      2\u001b[0m     \u001b[0ma\u001b[0m \u001b[1;33m=\u001b[0m \u001b[0mi\u001b[0m\u001b[1;33m+\u001b[0m\u001b[1;36m1\u001b[0m\u001b[1;33m\u001b[0m\u001b[0m\n\u001b[0;32m      3\u001b[0m     \u001b[0mb\u001b[0m \u001b[1;33m=\u001b[0m \u001b[1;34m'string'\u001b[0m\u001b[1;33m\u001b[0m\u001b[0m\n\u001b[1;32m----> 4\u001b[1;33m     \u001b[0mc\u001b[0m \u001b[1;33m=\u001b[0m \u001b[0mb\u001b[0m\u001b[1;33m+\u001b[0m\u001b[1;36m1\u001b[0m\u001b[1;33m\u001b[0m\u001b[0m\n\u001b[0m",
            "\u001b[1;31mTypeError\u001b[0m: must be str, not int"
          ]
        }
      ]
    },
    {
      "metadata": {
        "id": "Tj-THFaTrbKn",
        "colab_type": "code",
        "outputId": "4c2ac7d0-7353-4236-dd64-cd392b679153",
        "colab": {}
      },
      "cell_type": "code",
      "source": [
        "%debug"
      ],
      "execution_count": 0,
      "outputs": [
        {
          "output_type": "stream",
          "text": [
            "> <ipython-input-14-8d78ff778454>(4)<module>()\n",
            "      1 for i in range(1000):\n",
            "      2     a = i+1\n",
            "      3     b = 'string'\n",
            "----> 4     c = b+1\n",
            "\n",
            "ipdb> c\n"
          ],
          "name": "stdout"
        }
      ]
    },
    {
      "metadata": {
        "id": "2BeIHKDkrbKq",
        "colab_type": "code",
        "colab": {}
      },
      "cell_type": "code",
      "source": [
        "import torch"
      ],
      "execution_count": 0,
      "outputs": []
    },
    {
      "metadata": {
        "id": "qY7Es61Cr4zp",
        "colab_type": "code",
        "outputId": "34d094c8-21d9-4b80-e28e-6dee71549578",
        "colab": {
          "base_uri": "https://localhost:8080/",
          "height": 34
        }
      },
      "cell_type": "code",
      "source": [
        "torch.cuda.is_available(), torch.cuda.device_count()"
      ],
      "execution_count": 0,
      "outputs": [
        {
          "output_type": "execute_result",
          "data": {
            "text/plain": [
              "(True, 1)"
            ]
          },
          "metadata": {
            "tags": []
          },
          "execution_count": 11
        }
      ]
    }
  ]
}